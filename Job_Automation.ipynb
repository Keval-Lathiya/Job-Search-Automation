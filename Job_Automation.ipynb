{
 "cells": [
  {
   "cell_type": "markdown",
   "id": "0dad4415-426a-4042-a5bf-4199f3b42bdd",
   "metadata": {},
   "source": [
    "# Job Notifications Automation\n",
    "\n",
    "## Automate Your Job Search: Let Python Handle It!\n",
    "\n",
    "#### This Python script scrapes job listings from job boards and notifies you via WhatsApp if your desired job is posted within a specified time frame. I prefer to receive notifications every morning at 9 AM, so I’ve scheduled this script using Windows Task Scheduler to run automatically every day at that time and send me the results.\n",
    "\n",
    "### How to Schedule the Script in Task Scheduler:\n",
    "\n",
    "1. Open Task Scheduler.\n",
    "2. Select \"Create Basic Task\" from the \"Actions\" menu.\n",
    "3. Name your task and provide a description, then click \"Next.\"\n",
    "4. Set the frequency of the task, then click \"Next\" and specify the time.\n",
    "5. Choose \"Start a program\" and click \"Next.\"\n",
    "6. Browse to the location of your Python executable:\n",
    "   - If you're unsure where it's located, press `Win + R`, type `cmd`, then type `where python` in the command prompt.\n",
    "7. In the \"Add arguments\" field, enter the path to your script (e.g., `\"C:\\Users\\keval\\OneDrive\\Desktop\\Python\\Job_Automation.py\"`).\n",
    "8. Click \"Finish\" to complete the setup.\n",
    "\n",
    "### Setting up Twilio for WhatsApp notifications is straightforward. Visit [twilio.com](https://www.twilio.com) to get a WhatsApp number, `account_sid`, and `auth_token`\n",
    "\n"
   ]
  },
  {
   "cell_type": "code",
   "execution_count": 1,
   "id": "2e3154c2-45bc-4d16-b248-9502e3ad5f21",
   "metadata": {},
   "outputs": [],
   "source": [
    "from jobspy import scrape_jobs\n",
    "from twilio.rest import Client\n",
    "\n",
    "def generate_result(search_term=\"Data Analyst at Meta\"):\n",
    "    jobs = scrape_jobs(\n",
    "        site_name=[\"LinkedIn\"], # or Indeed, zip_recruiter, glassdoor. You can put all of them as well\n",
    "        search_term=search_term,\n",
    "        hours_old=24\n",
    "        #location=\"Remote\",\n",
    "        #num_jobs=20,\n",
    "        #linkedin_fetch_description=True,\n",
    "        #include_salary=True,\n",
    "        #experience_level=\"Mid Level\",\n",
    "        #job_type=\"Full-time\",\n",
    "        #remote=True\n",
    "    )\n",
    "    \n",
    "    jobs = jobs[jobs['company'] == 'Meta'] # Adding additional filter just in case other promoted jobs are fetched too\n",
    "    # add more filters as well like specific words in job description (i.e security clearance ), minimum salary, company industry etc\n",
    "    \n",
    "    if not jobs.empty:\n",
    "        message = f\"Here are the latest {search_term} jobs :\\n\\n\"\n",
    "        for index, job in jobs.iterrows():\n",
    "            message += f\"{job['title']}\\nLink: {job['job_url']}\\n\\n\"\n",
    "    else:\n",
    "        message = \"No new jobs found.\"\n",
    "    return message"
   ]
  },
  {
   "cell_type": "code",
   "execution_count": 3,
   "id": "d19d63f3-bf9e-4e5b-af82-e8c23ebbde95",
   "metadata": {},
   "outputs": [],
   "source": [
    "# I have used Twilio to send messages to my whatsapp. It also provides services to send messages in SMS. It's very inexpensive but \n",
    "# if you prefer something free and in email, smtplib is an excellent library to use. Just make sure you're using app password if you have 2FA\n",
    "\n",
    "def send_whatsapp_message(result):\n",
    "    # Your Twilio account SID and Auth Token\n",
    "    account_sid = 'xxxxxxxxxxxxxxxxxxxxxxxxxxxxxxxxxx'  # Replace with your Twilio Account SID\n",
    "    auth_token = 'xxxxxxxxxxxxxxxxxxxxxxxxxxxxxxxxxx'    # Replace with your Twilio Auth Token\n",
    "    client = Client(account_sid, auth_token)\n",
    "\n",
    "    # Sending the message\n",
    "    message = client.messages.create(\n",
    "        body=result,  \n",
    "        from_='whatsapp:+1xxxxxxxxxx',  # Your Twilio number \n",
    "        to='whatsapp:+1xxxxxxxxxx'    # Your WhatsApp number \n",
    "    )\n",
    "\n",
    "    print(f\"Message sent with SID: {message.sid}\")"
   ]
  },
  {
   "cell_type": "code",
   "execution_count": null,
   "id": "b40ef7ba-687c-478c-96bc-fe01e7698080",
   "metadata": {},
   "outputs": [],
   "source": [
    "def main():\n",
    "    # Generate the result\n",
    "    result = generate_result()\n",
    "\n",
    "    # Send the result via WhatsApp\n",
    "    send_whatsapp_message(result)"
   ]
  },
  {
   "cell_type": "code",
   "execution_count": null,
   "id": "47a9ef6a-58c1-43b4-816c-174e3a0eeb0f",
   "metadata": {},
   "outputs": [],
   "source": [
    "if __name__ == \"__main__\":\n",
    "    main()"
   ]
  }
 ],
 "metadata": {
  "kernelspec": {
   "display_name": "Python 3 (ipykernel)",
   "language": "python",
   "name": "python3"
  },
  "language_info": {
   "codemirror_mode": {
    "name": "ipython",
    "version": 3
   },
   "file_extension": ".py",
   "mimetype": "text/x-python",
   "name": "python",
   "nbconvert_exporter": "python",
   "pygments_lexer": "ipython3",
   "version": "3.10.9"
  }
 },
 "nbformat": 4,
 "nbformat_minor": 5
}
